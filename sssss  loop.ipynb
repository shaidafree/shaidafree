{
 "cells": [
  {
   "cell_type": "code",
   "execution_count": 1,
   "id": "e3ffa0e5",
   "metadata": {},
   "outputs": [
    {
     "name": "stdout",
     "output_type": "stream",
     "text": [
      "1\n",
      "1 2\n",
      "1 2 3\n",
      "1 2 3 4\n",
      "1 2 3 4 5\n",
      "1 2 3 4 5 6\n"
     ]
    }
   ],
   "source": [
    "x=6\n",
    "b=1\n",
    "a=0\n",
    "while x:\n",
    "    a=a*10+(b)\n",
    "    print(\" \".join(str(a)))\n",
    "    x=x-1\n",
    "    b+=1"
   ]
  },
  {
   "cell_type": "code",
   "execution_count": 3,
   "id": "ae695250",
   "metadata": {},
   "outputs": [
    {
     "name": "stdout",
     "output_type": "stream",
     "text": [
      "A\n",
      "A B\n",
      "A B C\n",
      "A B C D\n",
      "A B C D E\n",
      "A B C D E F\n"
     ]
    }
   ],
   "source": [
    "x=6\n",
    "a=\"\"\n",
    "while x:\n",
    "    a=a+chr(71-x)\n",
    "    print(\" \".join(a))\n",
    "    x-=1"
   ]
  },
  {
   "cell_type": "code",
   "execution_count": 4,
   "id": "87e13320",
   "metadata": {},
   "outputs": [
    {
     "name": "stdout",
     "output_type": "stream",
     "text": [
      "*\n",
      "* *\n",
      "* * *\n",
      "* * * *\n",
      "* * * * *\n",
      "* * * * * *\n"
     ]
    }
   ],
   "source": [
    "x=6\n",
    "while x:\n",
    "    print(\" \".join((7-x)*\"*\"))\n",
    "    x-=1"
   ]
  },
  {
   "cell_type": "code",
   "execution_count": 5,
   "id": "5960654b",
   "metadata": {},
   "outputs": [
    {
     "name": "stdout",
     "output_type": "stream",
     "text": [
      "1\n",
      "2 2\n",
      "3 3 3\n",
      "4 4 4 4\n",
      "5 5 5 5 5\n",
      "6 6 6 6 6 6\n"
     ]
    }
   ],
   "source": [
    "x=6\n",
    "while x:\n",
    "    print(\" \".join((7-x)*str((7-x))))\n",
    "    x-=1"
   ]
  },
  {
   "cell_type": "code",
   "execution_count": 6,
   "id": "e81ba301",
   "metadata": {},
   "outputs": [
    {
     "name": "stdout",
     "output_type": "stream",
     "text": [
      "A\n",
      "B B\n",
      "C C C\n",
      "D D D D\n",
      "E E E E E\n",
      "F F F F F F\n"
     ]
    }
   ],
   "source": [
    "x=6\n",
    "while x:\n",
    "    print(\" \".join((7-x)*chr(71-x)))\n",
    "    x-=1"
   ]
  },
  {
   "cell_type": "code",
   "execution_count": 7,
   "id": "7a323808",
   "metadata": {},
   "outputs": [
    {
     "name": "stdout",
     "output_type": "stream",
     "text": [
      "            *\n",
      "          * *\n",
      "        * * *\n",
      "      * * * *\n",
      "    * * * * *\n",
      "  * * * * * *\n"
     ]
    }
   ],
   "source": [
    "x=6\n",
    "while x:\n",
    "    print(\" \".join((x)*\" \"+(7-x)*\"*\"))\n",
    "    x-=1"
   ]
  },
  {
   "cell_type": "code",
   "execution_count": 8,
   "id": "e03c27b6",
   "metadata": {},
   "outputs": [
    {
     "name": "stdout",
     "output_type": "stream",
     "text": [
      "         1          \n",
      "        1 2         \n",
      "       1 2 3        \n",
      "      1 2 3 4       \n",
      "     1 2 3 4 5      \n",
      "    1 2 3 4 5 6     \n"
     ]
    }
   ],
   "source": [
    "x=6\n",
    "b=1\n",
    "a=0\n",
    "while x:\n",
    "    a=a*10+(b)\n",
    "    print(\" \".join(str(a)).center(20,\" \"))\n",
    "    x=x-1\n",
    "    b+=1"
   ]
  },
  {
   "cell_type": "code",
   "execution_count": 9,
   "id": "5be4333f",
   "metadata": {},
   "outputs": [
    {
     "name": "stdout",
     "output_type": "stream",
     "text": [
      "          5         \n",
      "         4 5        \n",
      "        3 4 5       \n",
      "       2 3 4 5      \n",
      "      1 2 3 4 5     \n"
     ]
    }
   ],
   "source": [
    "x=5\n",
    "a=\"\"\n",
    "while x:\n",
    "    a=\" \"+str(x)+a\n",
    "    print(a.center(20,\" \"))\n",
    "    x-=1"
   ]
  },
  {
   "cell_type": "code",
   "execution_count": 11,
   "id": "88c5d63d",
   "metadata": {},
   "outputs": [
    {
     "name": "stdout",
     "output_type": "stream",
     "text": [
      "         A          \n",
      "        A B         \n",
      "       A B C        \n",
      "      A B C D       \n",
      "     A B C D E      \n",
      "    A B C D E F     \n"
     ]
    }
   ],
   "source": [
    "x=6\n",
    "a=\"\"\n",
    "while x:\n",
    "    a=a+chr(71-x)\n",
    "    print(\" \".join(a).center(20,\" \"))\n",
    "    x-=1"
   ]
  },
  {
   "cell_type": "code",
   "execution_count": 12,
   "id": "7cb01707",
   "metadata": {},
   "outputs": [
    {
     "name": "stdout",
     "output_type": "stream",
     "text": [
      "         E          \n",
      "        D E         \n",
      "       C D E        \n",
      "      B C D E       \n",
      "     A B C D E      \n"
     ]
    }
   ],
   "source": [
    "x=5\n",
    "a=\"\"\n",
    "while x:\n",
    "    a=chr(64+x)+a\n",
    "    print(\" \".join(a).center(20,\" \"))\n",
    "    x-=1"
   ]
  },
  {
   "cell_type": "code",
   "execution_count": 13,
   "id": "372af1db",
   "metadata": {},
   "outputs": [
    {
     "name": "stdout",
     "output_type": "stream",
     "text": [
      "         *          \n",
      "        ***         \n",
      "       *****        \n",
      "      *******       \n",
      "     *********      \n"
     ]
    }
   ],
   "source": [
    "x=10\n",
    "a=\"\"\n",
    "while x:\n",
    "    if (11-x)%2!=0:\n",
    "        a=(11-x)*\"*\"\n",
    "        print(a.center(20,\" \"))\n",
    "    x=x-1"
   ]
  },
  {
   "cell_type": "code",
   "execution_count": 14,
   "id": "958fcc8b",
   "metadata": {},
   "outputs": [
    {
     "name": "stdout",
     "output_type": "stream",
     "text": [
      "         1          \n",
      "        2 2         \n",
      "       3 3 3        \n",
      "      4 4 4 4       \n",
      "     5 5 5 5 5      \n",
      "    6 6 6 6 6 6     \n"
     ]
    }
   ],
   "source": [
    "x=6\n",
    "while x:\n",
    "    print(\" \".join((7-x)*str((7-x))).center(20,\" \"))\n",
    "    x-=1"
   ]
  },
  {
   "cell_type": "code",
   "execution_count": 15,
   "id": "cb9152df",
   "metadata": {},
   "outputs": [
    {
     "name": "stdout",
     "output_type": "stream",
     "text": [
      "         A          \n",
      "        B B         \n",
      "       C C C        \n",
      "      D D D D       \n",
      "     E E E E E      \n",
      "    F F F F F F     \n"
     ]
    }
   ],
   "source": [
    "x=6\n",
    "while x:\n",
    "    print(\" \".join((7-x)*chr(71-x)).center(20,\" \"))\n",
    "    x-=1"
   ]
  },
  {
   "cell_type": "code",
   "execution_count": 18,
   "id": "4a6abe03",
   "metadata": {},
   "outputs": [
    {
     "name": "stdout",
     "output_type": "stream",
     "text": [
      "1 2 3 4 5 6\n",
      "1 2 3 4 5\n",
      "1 2 3 4\n",
      "1 2 3\n",
      "1 2\n",
      "1\n"
     ]
    }
   ],
   "source": [
    "x=6\n",
    "while x:\n",
    "    a=\"\"\n",
    "    b=x\n",
    "    while b:\n",
    "        a=a+str((x+1)-b)\n",
    "        \n",
    "        b-=1\n",
    "    print(\" \".join(a))\n",
    "    x-=1"
   ]
  },
  {
   "cell_type": "code",
   "execution_count": 19,
   "id": "7bdeaa95",
   "metadata": {},
   "outputs": [
    {
     "name": "stdout",
     "output_type": "stream",
     "text": [
      "5 4 3 2 1\n",
      "5 4 3 2\n",
      "5 4 3\n",
      "5 4\n",
      "5\n"
     ]
    }
   ],
   "source": [
    "x=5\n",
    "while x:\n",
    "    a=\"\"\n",
    "    b=x\n",
    "    while b:\n",
    "        a=a+str(6-(x-b)-1)\n",
    "        b-=1\n",
    "    print(\" \".join(a))\n",
    "    x-=1"
   ]
  },
  {
   "cell_type": "code",
   "execution_count": 20,
   "id": "1c919e1d",
   "metadata": {},
   "outputs": [
    {
     "name": "stdout",
     "output_type": "stream",
     "text": [
      "5\n",
      "5 4\n",
      "5 4 3\n",
      "5 4 3 2\n",
      "5 4 3 2 1\n"
     ]
    }
   ],
   "source": [
    "x=5\n",
    "a=\"\"\n",
    "while x:\n",
    "    a=a+str(x)\n",
    "    print(\" \".join(a))\n",
    "    x-=1"
   ]
  },
  {
   "cell_type": "code",
   "execution_count": 21,
   "id": "5ef733f8",
   "metadata": {},
   "outputs": [
    {
     "name": "stdout",
     "output_type": "stream",
     "text": [
      "1 \n",
      "2 3 \n",
      "4 5 6 \n",
      "7 8 9 10 \n",
      "11 12 13 14 15 \n"
     ]
    }
   ],
   "source": [
    "x=5\n",
    "num=0\n",
    "while x:\n",
    "    a=\"\"\n",
    "    b=(6-x)\n",
    "    while b:\n",
    "        num+=1\n",
    "        a=a+str(num)+\" \"\n",
    "        b-=1\n",
    "    print(a)\n",
    "    x-=1"
   ]
  },
  {
   "cell_type": "code",
   "execution_count": 22,
   "id": "75027517",
   "metadata": {},
   "outputs": [
    {
     "name": "stdout",
     "output_type": "stream",
     "text": [
      "A B C D E\n",
      "A B C D\n",
      "A B C\n",
      "A B\n",
      "A\n"
     ]
    }
   ],
   "source": [
    "x=5\n",
    "while x:\n",
    "    a=\"\"\n",
    "    b=x\n",
    "    while b:\n",
    "        a=a+chr(70-(6-(x-b)-1))\n",
    "        b-=1\n",
    "    print(\" \".join(a))\n",
    "    x-=1"
   ]
  },
  {
   "cell_type": "code",
   "execution_count": 23,
   "id": "193d4520",
   "metadata": {},
   "outputs": [
    {
     "name": "stdout",
     "output_type": "stream",
     "text": [
      "******\n",
      "*****\n",
      "****\n",
      "***\n",
      "**\n",
      "*\n"
     ]
    }
   ],
   "source": [
    "x=6\n",
    "while x:\n",
    "    print(x*\"*\")\n",
    "    x-=1"
   ]
  },
  {
   "cell_type": "code",
   "execution_count": 24,
   "id": "28576836",
   "metadata": {},
   "outputs": [
    {
     "name": "stdout",
     "output_type": "stream",
     "text": [
      " ******\n",
      "  *****\n",
      "   ****\n",
      "    ***\n",
      "     **\n",
      "      *\n"
     ]
    }
   ],
   "source": [
    "x=6\n",
    "while x:\n",
    "    print((7-x)*\" \"+(x)*\"*\")\n",
    "    x-=1"
   ]
  },
  {
   "cell_type": "code",
   "execution_count": 25,
   "id": "2c4b7ea7",
   "metadata": {},
   "outputs": [
    {
     "name": "stdout",
     "output_type": "stream",
     "text": [
      "*\n",
      "**\n",
      "***\n",
      "****\n",
      "*****\n",
      "****\n",
      "***\n",
      "**\n",
      "*\n"
     ]
    }
   ],
   "source": [
    "x=6\n",
    "b=x-2\n",
    "while x:\n",
    "    if x==1:\n",
    "        while b:\n",
    "            print((b)*\"*\")\n",
    "            b-=1\n",
    "    else:\n",
    "        print((7-x)*\"*\")\n",
    "    x-=1"
   ]
  },
  {
   "cell_type": "code",
   "execution_count": 26,
   "id": "0c3ebf5b",
   "metadata": {},
   "outputs": [
    {
     "name": "stdout",
     "output_type": "stream",
     "text": [
      "*\n",
      "**\n",
      "***\n",
      "****\n",
      "*****\n",
      "****\n",
      "***\n",
      "**\n",
      "*\n"
     ]
    }
   ],
   "source": [
    "x=6\n",
    "b=x-2\n",
    "while x:\n",
    "    if x==1:\n",
    "        while b:\n",
    "            print((b)*\"*\")\n",
    "            b-=1\n",
    "    else:\n",
    "        print((7-x)*\"*\")\n",
    "    x-=1"
   ]
  },
  {
   "cell_type": "code",
   "execution_count": 27,
   "id": "20c4719d",
   "metadata": {},
   "outputs": [
    {
     "name": "stdout",
     "output_type": "stream",
     "text": [
      "*****\n",
      "*****\n",
      "*****\n",
      "*****\n",
      "*****\n",
      "*****\n"
     ]
    }
   ],
   "source": [
    "x=6\n",
    "while x:\n",
    "    print(5*\"*\")\n",
    "    x-=1"
   ]
  },
  {
   "cell_type": "code",
   "execution_count": 1,
   "id": "84e75d09",
   "metadata": {},
   "outputs": [
    {
     "name": "stdout",
     "output_type": "stream",
     "text": [
      "*          *\n",
      "**        **\n",
      "***      ***\n",
      "****    ****\n",
      "*****  *****\n",
      "************\n",
      "*****  *****\n",
      "****    ****\n",
      "***      ***\n",
      "**        **\n",
      "*          *\n"
     ]
    }
   ],
   "source": [
    "x=6\n",
    "b=x\n",
    "while x:\n",
    "    if x==1:\n",
    "        while b:\n",
    "            print((b)*\"*\"+\" \"*(7-b-1)+\" \"*(7-b-1)+(b)*\"*\")\n",
    "            b-=1\n",
    "    else:\n",
    "        print((7-x)*\"*\"+\" \"*(7-((7-x)+1))+\" \"*(7-((7-x)+1))+(7-x)*\"*\")\n",
    "    x-=1"
   ]
  },
  {
   "cell_type": "code",
   "execution_count": 2,
   "id": "c15c0081",
   "metadata": {},
   "outputs": [
    {
     "name": "stdout",
     "output_type": "stream",
     "text": [
      "*\n",
      "**\n",
      "* *\n",
      "*  *\n",
      "*   *\n",
      "******\n"
     ]
    }
   ],
   "source": [
    "x=6\n",
    "while x:\n",
    "    if x==6:\n",
    "        print((7-x)*\"*\")\n",
    "    elif x==1:\n",
    "        print((x+5)*\"*\")\n",
    "    else:\n",
    "        print(\"*\"+(7-x-2)*\" \"+\"*\")\n",
    "    x-=1\n",
    "    "
   ]
  },
  {
   "cell_type": "code",
   "execution_count": 3,
   "id": "0d901b4c",
   "metadata": {},
   "outputs": [
    {
     "name": "stdout",
     "output_type": "stream",
     "text": [
      "******\n",
      "*   *\n",
      "*  *\n",
      "* *\n",
      "**\n",
      "*\n"
     ]
    }
   ],
   "source": [
    "x=6\n",
    "while x:\n",
    "    if x==6 or x==1:\n",
    "        print(x*\"*\")\n",
    "    else:\n",
    "        print(\"*\"+(x-2)*\" \"+\"*\")\n",
    "    x-=1"
   ]
  },
  {
   "cell_type": "code",
   "execution_count": 4,
   "id": "d87ac265",
   "metadata": {},
   "outputs": [
    {
     "name": "stdout",
     "output_type": "stream",
     "text": [
      "      *\n",
      "     **\n",
      "    * *\n",
      "   *  *\n",
      "  *   *\n",
      " ******\n"
     ]
    }
   ],
   "source": [
    "x=6\n",
    "while x:\n",
    "    if x==6:\n",
    "        print(x*\" \"+(7-x)*\"*\")\n",
    "    elif x==1:\n",
    "        print(x*\" \"+(x+5)*\"*\")\n",
    "    else:\n",
    "        print(x*\" \"+\"*\"+(7-x-2)*\" \"+\"*\")\n",
    "    x-=1"
   ]
  },
  {
   "cell_type": "code",
   "execution_count": 5,
   "id": "8222bf54",
   "metadata": {},
   "outputs": [
    {
     "name": "stdout",
     "output_type": "stream",
     "text": [
      "******\n",
      "*   *\n",
      "*  *\n",
      "* *\n",
      "**\n",
      "*\n",
      "**\n",
      "* *\n",
      "*  *\n",
      "*   *\n",
      "******\n"
     ]
    }
   ],
   "source": [
    "x=6\n",
    "b=x\n",
    "while x:\n",
    "    if x==6:\n",
    "        print(x*\"*\")\n",
    "    elif x==1:\n",
    "        while b:\n",
    "            if b==6:\n",
    "                print((7-b)*\"*\")\n",
    "            elif b==1:\n",
    "                print((b+5)*\"*\")\n",
    "            else:\n",
    "                print(\"*\"+(7-b-2)*\" \"+\"*\")\n",
    "            b-=1\n",
    "    else:\n",
    "        print(\"*\"+(x-2)*\" \"+\"*\")\n",
    "    x-=1"
   ]
  },
  {
   "cell_type": "code",
   "execution_count": null,
   "id": "239848a8",
   "metadata": {},
   "outputs": [],
   "source": []
  }
 ],
 "metadata": {
  "kernelspec": {
   "display_name": "Python 3 (ipykernel)",
   "language": "python",
   "name": "python3"
  },
  "language_info": {
   "codemirror_mode": {
    "name": "ipython",
    "version": 3
   },
   "file_extension": ".py",
   "mimetype": "text/x-python",
   "name": "python",
   "nbconvert_exporter": "python",
   "pygments_lexer": "ipython3",
   "version": "3.9.12"
  }
 },
 "nbformat": 4,
 "nbformat_minor": 5
}

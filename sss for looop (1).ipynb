{
 "cells": [
  {
   "cell_type": "code",
   "execution_count": 1,
   "id": "2587e114",
   "metadata": {},
   "outputs": [
    {
     "name": "stdout",
     "output_type": "stream",
     "text": [
      "1\n",
      "1 2\n",
      "1 2 3\n",
      "1 2 3 4\n",
      "1 2 3 4 5\n"
     ]
    }
   ],
   "source": [
    "a=0\n",
    "for i in range(1,6):\n",
    "    a=a*10+i\n",
    "    print(\" \".join(str(a)))"
   ]
  },
  {
   "cell_type": "code",
   "execution_count": 34,
   "id": "e030e4d9",
   "metadata": {},
   "outputs": [
    {
     "name": "stdout",
     "output_type": "stream",
     "text": [
      "A \n",
      "A B \n",
      "A B C \n",
      "A B C D \n",
      "A B C D E \n"
     ]
    }
   ],
   "source": [
    "\n",
    "data=\"\"\n",
    "for i in range(1,6):\n",
    "    data=data+chr(64+i)+\" \"\n",
    "    print(data)"
   ]
  },
  {
   "cell_type": "code",
   "execution_count": 35,
   "id": "ed120bb8",
   "metadata": {},
   "outputs": [
    {
     "name": "stdout",
     "output_type": "stream",
     "text": [
      "* \n",
      "* * \n",
      "* * * \n",
      "* * * * \n",
      "* * * * * \n"
     ]
    }
   ],
   "source": [
    "\n",
    "for i in range(1,6):\n",
    "    print(i*\"* \")\n"
   ]
  },
  {
   "cell_type": "code",
   "execution_count": 37,
   "id": "547a6f66",
   "metadata": {},
   "outputs": [
    {
     "name": "stdout",
     "output_type": "stream",
     "text": [
      "1\n",
      "2 2\n",
      "3 3 3\n",
      "4 4 4 4\n",
      "5 5 5 5 5\n"
     ]
    }
   ],
   "source": [
    "\n",
    "for i in range(1,6):\n",
    "    print(\" \".join(i*str(i)))\n",
    "    "
   ]
  },
  {
   "cell_type": "code",
   "execution_count": 38,
   "id": "3011cd7c",
   "metadata": {},
   "outputs": [
    {
     "name": "stdout",
     "output_type": "stream",
     "text": [
      "A\n",
      "B B\n",
      "C C C\n",
      "D D D D\n",
      "E E E E E\n"
     ]
    }
   ],
   "source": [
    "\n",
    "data=\"\"\n",
    "for i in range(1,6):\n",
    "    print(\" \".join(i*str(chr(64+i))))"
   ]
  },
  {
   "cell_type": "code",
   "execution_count": 40,
   "id": "1123cb22",
   "metadata": {},
   "outputs": [
    {
     "name": "stdout",
     "output_type": "stream",
     "text": [
      "          *\n",
      "        * *\n",
      "      * * *\n",
      "    * * * *\n",
      "  * * * * *\n"
     ]
    }
   ],
   "source": [
    "\n",
    "for i in range(1,6):\n",
    "    print(\" \".join((6-i)*\" \"+i*\"*\"))"
   ]
  },
  {
   "cell_type": "code",
   "execution_count": 45,
   "id": "860f51ba",
   "metadata": {},
   "outputs": [
    {
     "name": "stdout",
     "output_type": "stream",
     "text": [
      "         1          \n",
      "        1 2         \n",
      "       1 2 3        \n",
      "      1 2 3 4       \n",
      "     1 2 3 4 5      \n"
     ]
    }
   ],
   "source": [
    "\n",
    "k=\"\"\n",
    "for i in range(1,6):\n",
    "    k=k+str(i)+\" \"\n",
    "    print(k.center(20,\" \"))"
   ]
  },
  {
   "cell_type": "code",
   "execution_count": 47,
   "id": "2f3961cc",
   "metadata": {},
   "outputs": [
    {
     "name": "stdout",
     "output_type": "stream",
     "text": [
      "          5         \n",
      "         4 5        \n",
      "        3 4 5       \n",
      "       2 3 4 5      \n",
      "      1 2 3 4 5     \n"
     ]
    }
   ],
   "source": [
    "\n",
    "k=\"\"\n",
    "for i in range(1,6):\n",
    "    k=\" \"+str(6-i)+k\n",
    "    print(k.center(20, \" \"))"
   ]
  },
  {
   "cell_type": "code",
   "execution_count": 48,
   "id": "cbe0ee55",
   "metadata": {},
   "outputs": [
    {
     "name": "stdout",
     "output_type": "stream",
     "text": [
      "         A          \n",
      "        A B         \n",
      "       A B C        \n",
      "      A B C D       \n",
      "     A B C D E      \n"
     ]
    }
   ],
   "source": [
    "k=\"\"\n",
    "for i in range(1,6):\n",
    "    k=k+chr(64+i)+\" \"\n",
    "    print(k.center(20, \" \"))"
   ]
  },
  {
   "cell_type": "code",
   "execution_count": 50,
   "id": "fd340b1c",
   "metadata": {},
   "outputs": [
    {
     "name": "stdout",
     "output_type": "stream",
     "text": [
      "          E         \n",
      "         D E        \n",
      "        C D E       \n",
      "       B C D E      \n",
      "      A B C D E     \n"
     ]
    }
   ],
   "source": [
    "\n",
    "k=\"\"\n",
    "for i in range(1,6):\n",
    "    k=\" \"+chr(6+64-i)+k\n",
    "    print(k.center(20, \" \"))"
   ]
  },
  {
   "cell_type": "code",
   "execution_count": 51,
   "id": "fae50cd0",
   "metadata": {},
   "outputs": [
    {
     "name": "stdout",
     "output_type": "stream",
     "text": [
      "         *          \n",
      "        ***         \n",
      "       *****        \n",
      "      *******       \n",
      "     *********      \n",
      "    ***********     \n"
     ]
    }
   ],
   "source": [
    "\n",
    "for i in range(1,6*2,2):\n",
    "    j=i*\"*\"\n",
    "    print(j.center(20,\" \"))"
   ]
  },
  {
   "cell_type": "code",
   "execution_count": 52,
   "id": "de363cd3",
   "metadata": {},
   "outputs": [
    {
     "name": "stdout",
     "output_type": "stream",
     "text": [
      "         1          \n",
      "        2 2         \n",
      "       3 3 3        \n",
      "      4 4 4 4       \n",
      "     5 5 5 5 5      \n"
     ]
    }
   ],
   "source": [
    "\n",
    "for i in range(1,6):\n",
    "    a=\" \".join(i*str(i))\n",
    "    print(a.center(20,\" \"))"
   ]
  },
  {
   "cell_type": "code",
   "execution_count": 53,
   "id": "e7c90512",
   "metadata": {},
   "outputs": [
    {
     "name": "stdout",
     "output_type": "stream",
     "text": [
      "         A          \n",
      "        B B         \n",
      "       C C C        \n",
      "      D D D D       \n",
      "     E E E E E      \n"
     ]
    }
   ],
   "source": [
    "\n",
    "for i in range(1,6):\n",
    "    a=\" \".join(i*str(chr(64+i)))\n",
    "    print(a.center(20,\" \"))"
   ]
  },
  {
   "cell_type": "code",
   "execution_count": 54,
   "id": "10380df6",
   "metadata": {},
   "outputs": [
    {
     "name": "stdout",
     "output_type": "stream",
     "text": [
      "1 2 3 4 5 6\n",
      "1 2 3 4 5\n",
      "1 2 3 4\n",
      "1 2 3\n",
      "1 2\n",
      "1\n"
     ]
    }
   ],
   "source": [
    "for i in range(6,0,-1):\n",
    "    a = \"\"\n",
    "    for j in range(1,i+1):\n",
    "        a=a+str(j)\n",
    "    print(\" \".join(a))"
   ]
  },
  {
   "cell_type": "code",
   "execution_count": 58,
   "id": "22081d46",
   "metadata": {},
   "outputs": [],
   "source": [
    "\n",
    "\n",
    "for i in range(-1,0,-1):\n",
    "    a=\"\"\n",
    "    for j in range(1, i+1):\n",
    "        a=a+str(-1-j)+\" \"\n",
    "    print(a)"
   ]
  },
  {
   "cell_type": "code",
   "execution_count": 59,
   "id": "ad51d7b4",
   "metadata": {},
   "outputs": [
    {
     "name": "stdout",
     "output_type": "stream",
     "text": [
      "5\n",
      "5 4\n",
      "5 4 3\n",
      "5 4 3 2\n",
      "5 4 3 2 1\n"
     ]
    }
   ],
   "source": [
    "a=\"\"\n",
    "for i in range(1,6):\n",
    "    a=a+str(6-i)\n",
    "    print(\" \".join(a))"
   ]
  },
  {
   "cell_type": "code",
   "execution_count": 60,
   "id": "74ddeb3c",
   "metadata": {},
   "outputs": [
    {
     "name": "stdout",
     "output_type": "stream",
     "text": [
      "1 \n",
      "2 3 \n",
      "4 5 6 \n",
      "7 8 9 10 \n",
      "11 12 13 14 15 \n"
     ]
    }
   ],
   "source": [
    "num=0\n",
    "for i in range(1,6):\n",
    "    a = \"\"\n",
    "    for j in range(0,i):\n",
    "        num+=1\n",
    "        a=a+str(num)+\" \"\n",
    "    print(a)"
   ]
  },
  {
   "cell_type": "code",
   "execution_count": 61,
   "id": "e10931d8",
   "metadata": {},
   "outputs": [
    {
     "name": "stdout",
     "output_type": "stream",
     "text": [
      "A B C D E \n",
      "A B C D \n",
      "A B C \n",
      "A B \n",
      "A \n"
     ]
    }
   ],
   "source": [
    "\n",
    "for i in range(6,1,-1):\n",
    "    k=\"\"\n",
    "    for j in range(1,i):\n",
    "        k=k+chr(64+j)+\" \"\n",
    "    print(k)"
   ]
  },
  {
   "cell_type": "code",
   "execution_count": 62,
   "id": "78806bd2",
   "metadata": {},
   "outputs": [
    {
     "name": "stdout",
     "output_type": "stream",
     "text": [
      "******\n",
      "*****\n",
      "****\n",
      "***\n",
      "**\n",
      "*\n"
     ]
    }
   ],
   "source": [
    "\n",
    "for i in range(6,0,-1):\n",
    "    print(i*\"*\")"
   ]
  },
  {
   "cell_type": "code",
   "execution_count": 63,
   "id": "eb1b33da",
   "metadata": {},
   "outputs": [
    {
     "name": "stdout",
     "output_type": "stream",
     "text": [
      "******\n",
      " *****\n",
      "  ****\n",
      "   ***\n",
      "    **\n",
      "     *\n"
     ]
    }
   ],
   "source": [
    "\n",
    "for i in range(6,0,-1):\n",
    "    print((range_of_char-i)*\" \"+i*\"*\")"
   ]
  },
  {
   "cell_type": "code",
   "execution_count": 66,
   "id": "f6d34ef9",
   "metadata": {},
   "outputs": [
    {
     "name": "stdout",
     "output_type": "stream",
     "text": [
      "6\n",
      "*\n",
      "**\n",
      "***\n",
      "****\n",
      "*****\n",
      "****\n",
      "***\n",
      "**\n",
      "*\n"
     ]
    }
   ],
   "source": [
    "range_of_max=int(input())\n",
    "\n",
    "for i in range(1,range_of_max):\n",
    "    if i==5:\n",
    "        for j in range(range_of_max-1,0,-1):\n",
    "            print(j*\"*\")\n",
    "    else:\n",
    "        print(i*\"*\")"
   ]
  },
  {
   "cell_type": "code",
   "execution_count": 67,
   "id": "7ba518cf",
   "metadata": {},
   "outputs": [
    {
     "name": "stdout",
     "output_type": "stream",
     "text": [
      "******\n",
      "*****\n",
      "****\n",
      "***\n",
      "**\n",
      "*\n",
      "**\n",
      "***\n",
      "****\n",
      "*****\n",
      "******\n"
     ]
    }
   ],
   "source": [
    "\n",
    "for i in range(6,0,-1):\n",
    "    if i==1:\n",
    "        for j in range(1,6+1):\n",
    "            print(j*\"*\")\n",
    "    else:\n",
    "        print(i*\"*\")"
   ]
  },
  {
   "cell_type": "code",
   "execution_count": 68,
   "id": "d5097b90",
   "metadata": {},
   "outputs": [
    {
     "name": "stdout",
     "output_type": "stream",
     "text": [
      "     *\n",
      "    **\n",
      "   ***\n",
      "  ****\n",
      " *****\n",
      "  ****\n",
      "   ***\n",
      "    **\n",
      "     *\n"
     ]
    }
   ],
   "source": [
    "\n",
    "for i in range(1,6):\n",
    "    if i==5:\n",
    "        for j in range(6-1, 0,-1):\n",
    "            print((6-j)*\" \"+j*\"*\")\n",
    "    else:\n",
    "        print((6-i)*\" \"+i*\"*\")"
   ]
  },
  {
   "cell_type": "code",
   "execution_count": 69,
   "id": "76aa6666",
   "metadata": {},
   "outputs": [
    {
     "name": "stdout",
     "output_type": "stream",
     "text": [
      "******\n",
      " *****\n",
      "  ****\n",
      "   ***\n",
      "    **\n",
      "     *\n",
      "    **\n",
      "   ***\n",
      "  ****\n",
      " *****\n",
      "******\n"
     ]
    }
   ],
   "source": [
    "\n",
    "for i in range(6,0,-1):\n",
    "    if i==1:\n",
    "        for j in range(1,6+1):\n",
    "            print((6-j)*\" \"+j*\"*\")\n",
    "    else:\n",
    "        print((6-i)*\" \"+i*\"*\")"
   ]
  },
  {
   "cell_type": "code",
   "execution_count": 70,
   "id": "a6dbe085",
   "metadata": {},
   "outputs": [
    {
     "name": "stdout",
     "output_type": "stream",
     "text": [
      "*        *\n",
      "**      **\n",
      "***    ***\n",
      "****  ****\n",
      "**********\n"
     ]
    }
   ],
   "source": [
    "\n",
    "for i in range(1,6):\n",
    "    a=(6-(i+1))*\" \"+i*\"*\"\n",
    "    print(i*\"*\"+(6-(i+1))*\" \"+a)"
   ]
  },
  {
   "cell_type": "code",
   "execution_count": 72,
   "id": "12f79e32",
   "metadata": {},
   "outputs": [
    {
     "ename": "SyntaxError",
     "evalue": "unexpected EOF while parsing (274511540.py, line 3)",
     "output_type": "error",
     "traceback": [
      "\u001b[1;36m  Input \u001b[1;32mIn [72]\u001b[1;36m\u001b[0m\n\u001b[1;33m    print(i*\"*\"+(6-i)*\"\"+a\u001b[0m\n\u001b[1;37m                          ^\u001b[0m\n\u001b[1;31mSyntaxError\u001b[0m\u001b[1;31m:\u001b[0m unexpected EOF while parsing\n"
     ]
    }
   ],
   "source": [
    "for i in range(6,0,-1):\n",
    "     a=(6-i)*\" \"+i*\"*\"\n",
    "    print(i*\"*\"+(6-i)*\"\"+a"
   ]
  },
  {
   "cell_type": "code",
   "execution_count": 73,
   "id": "4c431890",
   "metadata": {},
   "outputs": [
    {
     "name": "stdout",
     "output_type": "stream",
     "text": [
      "*\n",
      "**\n",
      "* *\n",
      "*  *\n",
      "*****\n"
     ]
    }
   ],
   "source": [
    "\n",
    "for i in range(1,6):\n",
    "    data=\"\"\n",
    "    if i==6-1:\n",
    "        data=data+i*\"*\"\n",
    "    else:\n",
    "        for j in range(1, i+1):\n",
    "            if j==1 or j==i:\n",
    "                data=data+\"*\"\n",
    "            else:\n",
    "                data=data+\" \"\n",
    "    print(data)"
   ]
  },
  {
   "cell_type": "code",
   "execution_count": 74,
   "id": "1eb261cd",
   "metadata": {},
   "outputs": [
    {
     "name": "stdout",
     "output_type": "stream",
     "text": [
      "*****\n",
      "*  *\n",
      "* *\n",
      "**\n",
      "*\n"
     ]
    }
   ],
   "source": [
    "\n",
    "for i in range(6-1,0,-1):\n",
    "    data=\"\"\n",
    "    if i==6-1:\n",
    "        data=data+i*\"*\"\n",
    "    else:\n",
    "        for j in range(1, i+1):\n",
    "            if j==1 or j==i:\n",
    "                data=data+\"*\"\n",
    "            else:\n",
    "                data=data+\" \"\n",
    "    print(data)"
   ]
  },
  {
   "cell_type": "code",
   "execution_count": 75,
   "id": "1b0d6e29",
   "metadata": {},
   "outputs": [
    {
     "name": "stdout",
     "output_type": "stream",
     "text": [
      "     *\n",
      "    **\n",
      "   * *\n",
      "  *  *\n",
      " *****\n"
     ]
    }
   ],
   "source": [
    "\n",
    "for i in range(1,6):\n",
    "    data=\"\"\n",
    "    if i==6-1:\n",
    "        data=data+i*\"*\"\n",
    "    else:\n",
    "        for j in range(1, i+1):\n",
    "            if j==1 or j==i:\n",
    "                data=data+\"*\"\n",
    "            else:\n",
    "                data=data+\" \"\n",
    "    print((6-i)*\" \"+data)"
   ]
  },
  {
   "cell_type": "code",
   "execution_count": 80,
   "id": "02a562e5",
   "metadata": {},
   "outputs": [
    {
     "name": "stdout",
     "output_type": "stream",
     "text": [
      "         *          \n",
      "        * *         \n",
      "       *   *        \n",
      "      *     *       \n",
      "     *       *      \n",
      "    ***********     \n"
     ]
    }
   ],
   "source": [
    "\n",
    "for i in range(1,6*2,2):\n",
    "    if i==1 or i==6*2-1:\n",
    "        s=i*\"*\"\n",
    "\n",
    "    else:     \n",
    "        s=\"*\"+(i-2)*\" \"+\"*\"\n",
    "    print(s.center(20,\" \"))\n",
    "    "
   ]
  },
  {
   "cell_type": "code",
   "execution_count": 79,
   "id": "c9016fe6",
   "metadata": {},
   "outputs": [
    {
     "name": "stdout",
     "output_type": "stream",
     "text": [
      "    ***********     \n",
      "     *       *      \n",
      "      *     *       \n",
      "       *   *        \n",
      "        * *         \n",
      "         *          \n"
     ]
    }
   ],
   "source": [
    "\n",
    "for i in range(1,6*2,2):\n",
    "    if i==1 or i==6*2-1:\n",
    "        s=(6*2-i)*\"*\"\n",
    "\n",
    "    else:     \n",
    "        s=\"*\"+(6*2-i-2)*\" \"+\"*\"\n",
    "    print(s.center(20,\" \"))"
   ]
  },
  {
   "cell_type": "code",
   "execution_count": 32,
   "id": "e2ee4d39",
   "metadata": {},
   "outputs": [
    {
     "name": "stdout",
     "output_type": "stream",
     "text": [
      "*****\n",
      "*****\n",
      "*****\n",
      "*****\n",
      "*****\n"
     ]
    }
   ],
   "source": [
    "for i in range(5):\n",
    "    print(5*\"*\")"
   ]
  },
  {
   "cell_type": "code",
   "execution_count": null,
   "id": "2b836352",
   "metadata": {},
   "outputs": [],
   "source": []
  }
 ],
 "metadata": {
  "kernelspec": {
   "display_name": "Python 3 (ipykernel)",
   "language": "python",
   "name": "python3"
  },
  "language_info": {
   "codemirror_mode": {
    "name": "ipython",
    "version": 3
   },
   "file_extension": ".py",
   "mimetype": "text/x-python",
   "name": "python",
   "nbconvert_exporter": "python",
   "pygments_lexer": "ipython3",
   "version": "3.9.12"
  }
 },
 "nbformat": 4,
 "nbformat_minor": 5
}
